{
  "nbformat": 4,
  "nbformat_minor": 0,
  "metadata": {
    "colab": {
      "provenance": []
    },
    "kernelspec": {
      "name": "ir",
      "display_name": "R"
    },
    "language_info": {
      "name": "R"
    }
  },
  "cells": [
    {
      "cell_type": "markdown",
      "source": [
        "## Obtendo as Demonstrações Financeiras Padronizadas"
      ],
      "metadata": {
        "id": "F4BMIvBSzTrq"
      }
    },
    {
      "cell_type": "code",
      "source": [
        "install.packages(\"purrr\")\n",
        "install.packages(\"httr\")\n",
        "install.packages(\"lubridate\")"
      ],
      "metadata": {
        "colab": {
          "base_uri": "https://localhost:8080/"
        },
        "id": "-6n6h4aB28gh",
        "outputId": "cf50e22e-a409-4964-f947-92be578d45bb"
      },
      "execution_count": null,
      "outputs": [
        {
          "output_type": "stream",
          "name": "stderr",
          "text": [
            "Installing package into ‘/usr/local/lib/R/site-library’\n",
            "(as ‘lib’ is unspecified)\n",
            "\n",
            "Installing package into ‘/usr/local/lib/R/site-library’\n",
            "(as ‘lib’ is unspecified)\n",
            "\n",
            "Installing package into ‘/usr/local/lib/R/site-library’\n",
            "(as ‘lib’ is unspecified)\n",
            "\n"
          ]
        }
      ]
    },
    {
      "cell_type": "code",
      "source": [
        "library(httr)\n",
        "library(purrr)\n",
        "library(dplyr)\n",
        "library(tidyverse)\n",
        "library(lubridate)\n",
        "#library(RPostgreSQL)"
      ],
      "metadata": {
        "id": "X2IZzsfE285V",
        "colab": {
          "base_uri": "https://localhost:8080/"
        },
        "outputId": "1a6c5555-5764-4280-e76f-b1c960d57c0a"
      },
      "execution_count": null,
      "outputs": [
        {
          "output_type": "stream",
          "name": "stderr",
          "text": [
            "\n",
            "Attaching package: ‘dplyr’\n",
            "\n",
            "\n",
            "The following objects are masked from ‘package:stats’:\n",
            "\n",
            "    filter, lag\n",
            "\n",
            "\n",
            "The following objects are masked from ‘package:base’:\n",
            "\n",
            "    intersect, setdiff, setequal, union\n",
            "\n",
            "\n",
            "── \u001b[1mAttaching core tidyverse packages\u001b[22m ──────────────────────── tidyverse 2.0.0 ──\n",
            "\u001b[32m✔\u001b[39m \u001b[34mforcats  \u001b[39m 1.0.0     \u001b[32m✔\u001b[39m \u001b[34mstringr  \u001b[39m 1.5.1\n",
            "\u001b[32m✔\u001b[39m \u001b[34mggplot2  \u001b[39m 3.4.4     \u001b[32m✔\u001b[39m \u001b[34mtibble   \u001b[39m 3.2.1\n",
            "\u001b[32m✔\u001b[39m \u001b[34mlubridate\u001b[39m 1.9.3     \u001b[32m✔\u001b[39m \u001b[34mtidyr    \u001b[39m 1.3.1\n",
            "\u001b[32m✔\u001b[39m \u001b[34mreadr    \u001b[39m 2.1.5     \n",
            "── \u001b[1mConflicts\u001b[22m ────────────────────────────────────────── tidyverse_conflicts() ──\n",
            "\u001b[31m✖\u001b[39m \u001b[34mdplyr\u001b[39m::\u001b[32mfilter()\u001b[39m masks \u001b[34mstats\u001b[39m::filter()\n",
            "\u001b[31m✖\u001b[39m \u001b[34mdplyr\u001b[39m::\u001b[32mlag()\u001b[39m    masks \u001b[34mstats\u001b[39m::lag()\n",
            "\u001b[36mℹ\u001b[39m Use the conflicted package (\u001b[3m\u001b[34m<http://conflicted.r-lib.org/>\u001b[39m\u001b[23m) to force all conflicts to become errors\n"
          ]
        }
      ]
    },
    {
      "cell_type": "code",
      "source": [
        "obter_dfp <- function(ano){\n",
        "  url <- paste0(\"https://dados.cvm.gov.br/dados/CIA_ABERTA/DOC/DFP/DADOS/\",\"dfp_cia_aberta_\",ano,\".zip\") #copiando a URL dos arquivos\n",
        "  GET(url, write_disk(paste0(\"dfp_cia_aberta_\",ano,\".zip\"))) #baixando os arquivos\n",
        "  planilhas <- unzip(paste0(\"/content/dfp_cia_aberta_\",ano,\".zip\"))} #descompactando os arquivos .RAR"
      ],
      "metadata": {
        "id": "IsFkcWL62-jt"
      },
      "execution_count": null,
      "outputs": []
    },
    {
      "cell_type": "code",
      "source": [
        "cvm_dfp <- function(){\n",
        "  #Listando os arquivos no diretório referente às demonstrações financeiras\n",
        "  BPA <- list.files(path = \".\", pattern = \"^dfp_cia_aberta_BPA_con_\", full.names = TRUE)\n",
        "  BPP <- list.files(path = \".\", pattern = \"^dfp_cia_aberta_BPP_con_\", full.names = TRUE)\n",
        "  DRE <- list.files(path = \".\", pattern = \"^dfp_cia_aberta_DRE_con_\", full.names = TRUE)\n",
        "  DFC <- list.files(path = \".\", pattern = \"^dfp_cia_aberta_DFC_MD_con_\", full.names = TRUE)\n",
        "\n",
        "  #Lendo os arquivos todos de uma vez para cada demonstração\n",
        "  #Quando necessário: advinhar o encoding usar a função readr::guess_encoding\n",
        "  BPA <- read_csv2(BPA, id = \"file_name\",locale = locale(encoding = \"ISO-8859-1\"))\n",
        "  BPP <- read_csv2(BPP, id = \"file_name\",locale = locale(encoding = \"ISO-8859-1\"))\n",
        "  DRE <- read_csv2(DRE, id = \"file_name\",locale = locale(encoding = \"ISO-8859-1\"))\n",
        "  DFC <- read_csv2(DFC, id = \"file_name\",locale = locale(encoding = \"ISO-8859-1\"))\n",
        "\n",
        "  #Balanço Patrimonial - Ativo\n",
        "  BPA <- BPA %>% filter(ORDEM_EXERC == \"ÚLTIMO\" & ST_CONTA_FIXA == \"S\") %>%\n",
        "    select(DT_REFER,DENOM_CIA,CD_CVM,GRUPO_DFP,ESCALA_MOEDA,ORDEM_EXERC,DS_CONTA,VL_CONTA) %>%\n",
        "    mutate(VL_CONTA = as.double(VL_CONTA), GRUPO_DFP = str_replace_all(GRUPO_DFP,\"DF Consolidado - Balanço Patrimonial Ativo\",\"BPA\")) %>%\n",
        "    filter(DS_CONTA %in% c(\"Ativo Total\", \"Caixa e Equivalentes de Caixa\",\"Aplicações Financeiras\",\"Empréstimos e Recebíveis\",\n",
        "                           \"Tributos Diferidos\",\"Outros Ativos\",\"Investimentos\",\"Imobilizado\",\"Intangível\",\"Ativo Circulante\",\"Ativo Não Circulante\") &\n",
        "             VL_CONTA>=0) %>%\n",
        "    mutate(DS_CONTA = str_replace_all(DS_CONTA,c(\"Caixa e Equivalentes de Caixa\"=\"Ativo Circulante\",\"Aplicações Financeiras\"=\"Ativo Não Circulante\",\n",
        "                                                 \"Empréstimos e Recebíveis\"=\"Ativo Não Circulante\",\"Tributos Diferidos\"=\"Ativo Não Circulante\",\n",
        "                                                 \"Outros Ativos\"=\"Ativo Não Circulante\",\"Investimentos\"=\"Ativo Não Circulante\",\"Imobilizado\"=\"Ativo Não Circulante\",\n",
        "                                                 \"Intangível\"=\"Ativo Não Circulante\"))) %>%\n",
        "    select(DT_REFER, DENOM_CIA, CD_CVM, GRUPO_DFP, DS_CONTA, VL_CONTA)\n",
        "\n",
        "  #Balanço Patrimonial - Passivo\n",
        "  BPP <- BPP %>% filter(ORDEM_EXERC == \"ÚLTIMO\" & ST_CONTA_FIXA == \"S\") %>%\n",
        "    select(DT_REFER,DENOM_CIA,CD_CVM,GRUPO_DFP,ESCALA_MOEDA,ORDEM_EXERC,DS_CONTA,VL_CONTA) %>%\n",
        "    mutate(VL_CONTA = as.double(VL_CONTA), GRUPO_DFP = str_replace_all(GRUPO_DFP,\"DF Consolidado - Balanço Patrimonial Passivo\",\"BPP\")) %>%\n",
        "    filter(DS_CONTA %in% c(\"Passivo Total\",\"Passivos Financeiros para Negociação\",\"Outros Passivos Financeiros ao Valor Justo no Resultado\",\n",
        "                           \"Passivos Financeiros ao Custo Amortizado\",\"Provisões\",\"Passivos Fiscais\",\"Outros Passivos\",\"Passivos sobre Ativos Não Correntes a Venda e Descontinuados\",\n",
        "                           \"Patrimônio Líquido Consolidado\",\"Passivo Circulante\",\"Passivo Não Circulante\") &\n",
        "             VL_CONTA>=0) %>%\n",
        "    mutate(DS_CONTA = str_replace_all(DS_CONTA, c(\"Passivos Financeiros para Negociação\"=\"Passivo Circulante\",\"Outros Passivos Financeiros ao Valor Justo no Resultado\"=\"Passivo Circulante\",\n",
        "                                                  \"Passivos Financeiros ao Custo Amortizado\"=\"Passivo Circulante\",\"Provisões\"=\"Passivo Não Circulante\",\"Passivos Fiscais\"=\"Passivo Não Circulante\",\n",
        "                                                  \"Outros Passivos\"=\"Passivo Não Circulante\",\"Passivos sobre Ativos Não Correntes a Venda e Descontinuados\"=\"Passivo Não Circulante\",\n",
        "                                                  \"Patrimônio Líquido Consolidado\"=\"Patrimônio Líquido\"))) %>%\n",
        "    select(DT_REFER, DENOM_CIA, CD_CVM, GRUPO_DFP, DS_CONTA, VL_CONTA)\n",
        "\n",
        "  #Demonstração de Resultado\n",
        "  DRE <- DRE %>% filter(ORDEM_EXERC == \"ÚLTIMO\" & ST_CONTA_FIXA == \"S\") %>%\n",
        "    select(DT_REFER,DENOM_CIA,CD_CVM,GRUPO_DFP,ESCALA_MOEDA,ORDEM_EXERC,DS_CONTA,VL_CONTA) %>%\n",
        "    mutate(VL_CONTA = as.double(VL_CONTA), GRUPO_DFP = str_replace_all(GRUPO_DFP,\"DF Consolidado - Demonstração do Resultado\",\"DRE\")) %>%\n",
        "    filter(DS_CONTA %in% c(\"Receitas da Intermediação Financeira\",\"Resultado Antes dos Tributos sobre o Lucro\",\"Lucro/Prejuízo Consolidado do Período\",\n",
        "                           \"Receita de Venda de Bens e/ou Serviços\",\"Resultado Antes do Resultado Financeiro e dos Tributos\",\n",
        "                           \"Receitas das Operações\")) %>%\n",
        "    mutate(DS_CONTA = str_replace_all(DS_CONTA, c(\"Receitas da Intermediação Financeira\"=\"Receitas\",\"Receita de Venda de Bens e/ou Serviços\"=\"Receitas\",\"Receitas das Operações\"=\"Receitas\",\n",
        "                                                  \"Resultado Antes dos Tributos sobre o Lucro\"=\"Resultado Operacional\",\"Resultado Antes do Resultado Financeiro e dos Tributos\"=\"Resultado Operacional\",\n",
        "                                                  \"Lucro/Prejuízo Consolidado do Período\"=\"Lucro Líquido\"))) %>%\n",
        "    select(DT_REFER, DENOM_CIA, CD_CVM, GRUPO_DFP, DS_CONTA, VL_CONTA)\n",
        "\n",
        "  #Demonstração do Fluxo de Caixa\n",
        "  DFC <- DFC %>% filter(ORDEM_EXERC == \"ÚLTIMO\" & ST_CONTA_FIXA == \"S\") %>%\n",
        "    select(DT_REFER,DENOM_CIA,CD_CVM,GRUPO_DFP,ESCALA_MOEDA,ORDEM_EXERC,DS_CONTA,VL_CONTA) %>%\n",
        "    mutate(VL_CONTA = as.double(VL_CONTA), GRUPO_DFP = str_replace_all(GRUPO_DFP,\"DF Consolidado - Demonstração do Fluxo de Caixa (Método Direto)\",\"DFC\")) %>%\n",
        "    filter(DS_CONTA %in% c(\"Caixa Líquido Atividades Operacionais\",\"Caixa Líquido Atividades de Investimento\",\"Caixa Líquido Atividades de Financiamento\",\n",
        "                           \"Aumento (Redução) de Caixa e Equivalentes\")) %>%\n",
        "    select(DT_REFER, DENOM_CIA, CD_CVM, GRUPO_DFP, DS_CONTA, VL_CONTA)\n",
        "\n",
        "  #Unindo as Demonstrações em um mesmo arquivo\n",
        "  DFP <- bind_rows(BPA,BPP,DRE,DFC)\n",
        "  DFP <- DFP %>% select(DT_REFER, CD_CVM, DS_CONTA, VL_CONTA)\n",
        "\n",
        "  #Transformando linhas em colunas para melhor organização e leitura dos dados\n",
        "  DFP_wider <- DFP %>% pivot_wider(id_cols = c(DT_REFER, CD_CVM),names_from = DS_CONTA,values_from = VL_CONTA, values_fn = sum) %>%\n",
        "    mutate(cia_ano = paste(CD_CVM,year(DT_REFER),sep = \"_\"),\n",
        "           Liquidez_Geral = (`Ativo Circulante`+`Ativo Não Circulante`)/(`Passivo Circulante` + `Passivo Não Circulante`),\n",
        "           Liquidez_Corrente = `Ativo Circulante`/`Passivo Circulante`,\n",
        "           Prop_CapitalTerceiros = (`Passivo Circulante` + `Passivo Não Circulante`)/(`Passivo Circulante` + `Passivo Não Circulante` + `Patrimônio Líquido`),\n",
        "           Endividamento_Geral =(`Passivo Circulante` + `Passivo Não Circulante`)/(`Ativo Circulante`+`Ativo Não Circulante`),\n",
        "           Margem_Operacional = `Resultado Operacional`/`Receitas`,\n",
        "           Margem_Liquida =`Lucro Líquido`/`Receitas`,\n",
        "           ROE = `Lucro Líquido`/`Patrimônio Líquido`,\n",
        "           FluxoCaixa_Livre = `Caixa Líquido Atividades Operacionais` + `Caixa Líquido Atividades de Investimento`) %>%\n",
        "    select(17,1:16,14:25) %>%\n",
        "    filter_if(~is.numeric(.), all_vars(!is.infinite(.)))\n",
        "\n",
        "  #Convertendo os arquivos para dataframe\n",
        "  DFP_long <- as.data.frame(DFP)\n",
        "  DFP_wide <- as.data.frame(DFP_wider)\n",
        "\n",
        "  #Alterando os nomes das colunas\n",
        "  names(DFP_wide) <- c(\"cia_ano\",\"ano\",\"cd_cvm\",\"ativo_total\",\"ativo_circulante\",\n",
        "                            \"ativo_nao_circulante\",\"passivo_total\",\"passivo_circulante\",\n",
        "                            \"passivo_nao_circulante\",\"patrimonio_liquido\",\"receitas\",\n",
        "                            \"resultado_operacional\",\"lucro_liquido\",\"fc_operacional\",\"fc_investimento\",\n",
        "                            \"fc_financiamento\",\"fc_diferenca\",\"liquidez_geral\",\n",
        "                            \"liquidez_corrente\",\"prop_capitalterceiros\",\"endividamento_geral\",\n",
        "                            \"margem_operacional\",\"margem_liquida\",\"roe\",\"fluxocaixa_livre\")\n",
        "\n",
        "  DFP_wide <- DFP_wide %>% mutate(across(ativo_total:fc_diferenca,as.integer)) %>%\n",
        "    mutate(across(liquidez_geral:roe, as.double)) %>%\n",
        "    mutate(fluxocaixa_livre = as.integer(fluxocaixa_livre)) %>%\n",
        "    distinct(cia_ano, .keep_all = TRUE)\n",
        "\n",
        "  #Salvando os arquivo gerados e deletando os outros\n",
        "  write.csv(DFP_long,\"dfp_long.csv\")\n",
        "  write.csv(DFP_wide,\"dfp_wide.csv\")\n",
        "  f <- list.files(path = \".\", pattern = \"^dfp_cia_aberta\", full.names = TRUE, recursive = TRUE)\n",
        "  file.remove(f)\n",
        "\n",
        "  return(DFP_wide)\n",
        "}"
      ],
      "metadata": {
        "id": "ZDm1g1is3Cno"
      },
      "execution_count": null,
      "outputs": []
    },
    {
      "cell_type": "code",
      "source": [
        "anos <- 2017\n",
        "\n",
        "for (ano in anos){\n",
        "obter_dfp(ano)}"
      ],
      "metadata": {
        "id": "0DDKqF6r3BKF"
      },
      "execution_count": null,
      "outputs": []
    },
    {
      "cell_type": "code",
      "source": [
        "demonstracoes <- cvm_dfp()"
      ],
      "metadata": {
        "colab": {
          "base_uri": "https://localhost:8080/"
        },
        "id": "er5qTySU3G7Y",
        "outputId": "2433bf4b-06f3-4f16-8bf2-d1d7951390cd"
      },
      "execution_count": null,
      "outputs": [
        {
          "output_type": "stream",
          "name": "stderr",
          "text": [
            "\u001b[36mℹ\u001b[39m Using \u001b[34m\u001b[34m\"','\"\u001b[34m\u001b[39m as decimal and \u001b[34m\u001b[34m\"'.'\"\u001b[34m\u001b[39m as grouping mark. Use `read_delim()` for more control.\n",
            "\n",
            "\u001b[1mRows: \u001b[22m\u001b[34m44282\u001b[39m \u001b[1mColumns: \u001b[22m\u001b[34m15\u001b[39m\n",
            "\u001b[36m──\u001b[39m \u001b[1mColumn specification\u001b[22m \u001b[36m────────────────────────────────────────────────────────\u001b[39m\n",
            "\u001b[1mDelimiter:\u001b[22m \";\"\n",
            "\u001b[31mchr\u001b[39m  (10): CNPJ_CIA, DENOM_CIA, CD_CVM, GRUPO_DFP, MOEDA, ESCALA_MOEDA, ORDE...\n",
            "\u001b[32mdbl\u001b[39m   (1): VERSAO\n",
            "\u001b[32mnum\u001b[39m   (1): CD_CONTA\n",
            "\u001b[34mdate\u001b[39m  (2): DT_REFER, DT_FIM_EXERC\n",
            "\n",
            "\u001b[36mℹ\u001b[39m Use `spec()` to retrieve the full column specification for this data.\n",
            "\u001b[36mℹ\u001b[39m Specify the column types or set `show_col_types = FALSE` to quiet this message.\n",
            "\u001b[36mℹ\u001b[39m Using \u001b[34m\u001b[34m\"','\"\u001b[34m\u001b[39m as decimal and \u001b[34m\u001b[34m\"'.'\"\u001b[34m\u001b[39m as grouping mark. Use `read_delim()` for more control.\n",
            "\n",
            "\u001b[1mRows: \u001b[22m\u001b[34m74410\u001b[39m \u001b[1mColumns: \u001b[22m\u001b[34m15\u001b[39m\n",
            "\u001b[36m──\u001b[39m \u001b[1mColumn specification\u001b[22m \u001b[36m────────────────────────────────────────────────────────\u001b[39m\n",
            "\u001b[1mDelimiter:\u001b[22m \";\"\n",
            "\u001b[31mchr\u001b[39m  (10): CNPJ_CIA, DENOM_CIA, CD_CVM, GRUPO_DFP, MOEDA, ESCALA_MOEDA, ORDE...\n",
            "\u001b[32mdbl\u001b[39m   (1): VERSAO\n",
            "\u001b[32mnum\u001b[39m   (1): CD_CONTA\n",
            "\u001b[34mdate\u001b[39m  (2): DT_REFER, DT_FIM_EXERC\n",
            "\n",
            "\u001b[36mℹ\u001b[39m Use `spec()` to retrieve the full column specification for this data.\n",
            "\u001b[36mℹ\u001b[39m Specify the column types or set `show_col_types = FALSE` to quiet this message.\n",
            "\u001b[36mℹ\u001b[39m Using \u001b[34m\u001b[34m\"','\"\u001b[34m\u001b[39m as decimal and \u001b[34m\u001b[34m\"'.'\"\u001b[34m\u001b[39m as grouping mark. Use `read_delim()` for more control.\n",
            "\n",
            "\u001b[1mRows: \u001b[22m\u001b[34m24904\u001b[39m \u001b[1mColumns: \u001b[22m\u001b[34m16\u001b[39m\n",
            "\u001b[36m──\u001b[39m \u001b[1mColumn specification\u001b[22m \u001b[36m────────────────────────────────────────────────────────\u001b[39m\n",
            "\u001b[1mDelimiter:\u001b[22m \";\"\n",
            "\u001b[31mchr\u001b[39m  (10): CNPJ_CIA, DENOM_CIA, CD_CVM, GRUPO_DFP, MOEDA, ESCALA_MOEDA, ORDE...\n",
            "\u001b[32mdbl\u001b[39m   (1): VERSAO\n",
            "\u001b[32mnum\u001b[39m   (1): CD_CONTA\n",
            "\u001b[34mdate\u001b[39m  (3): DT_REFER, DT_INI_EXERC, DT_FIM_EXERC\n",
            "\n",
            "\u001b[36mℹ\u001b[39m Use `spec()` to retrieve the full column specification for this data.\n",
            "\u001b[36mℹ\u001b[39m Specify the column types or set `show_col_types = FALSE` to quiet this message.\n",
            "\u001b[36mℹ\u001b[39m Using \u001b[34m\u001b[34m\"','\"\u001b[34m\u001b[39m as decimal and \u001b[34m\u001b[34m\"'.'\"\u001b[34m\u001b[39m as grouping mark. Use `read_delim()` for more control.\n",
            "\n",
            "\u001b[1mRows: \u001b[22m\u001b[34m372\u001b[39m \u001b[1mColumns: \u001b[22m\u001b[34m16\u001b[39m\n",
            "\u001b[36m──\u001b[39m \u001b[1mColumn specification\u001b[22m \u001b[36m────────────────────────────────────────────────────────\u001b[39m\n",
            "\u001b[1mDelimiter:\u001b[22m \";\"\n",
            "\u001b[31mchr\u001b[39m  (10): CNPJ_CIA, DENOM_CIA, CD_CVM, GRUPO_DFP, MOEDA, ESCALA_MOEDA, ORDE...\n",
            "\u001b[32mdbl\u001b[39m   (1): VERSAO\n",
            "\u001b[32mnum\u001b[39m   (1): CD_CONTA\n",
            "\u001b[34mdate\u001b[39m  (3): DT_REFER, DT_INI_EXERC, DT_FIM_EXERC\n",
            "\n",
            "\u001b[36mℹ\u001b[39m Use `spec()` to retrieve the full column specification for this data.\n",
            "\u001b[36mℹ\u001b[39m Specify the column types or set `show_col_types = FALSE` to quiet this message.\n"
          ]
        }
      ]
    },
    {
      "cell_type": "code",
      "source": [
        "head(demonstracoes)"
      ],
      "metadata": {
        "colab": {
          "base_uri": "https://localhost:8080/",
          "height": 462
        },
        "id": "J_OAa_Rh3lv6",
        "outputId": "d9fb6c01-f5d0-4e99-ea06-dc4360614141"
      },
      "execution_count": null,
      "outputs": [
        {
          "output_type": "display_data",
          "data": {
            "text/html": [
              "<table class=\"dataframe\">\n",
              "<caption>A data.frame: 6 × 25</caption>\n",
              "<thead>\n",
              "\t<tr><th></th><th scope=col>cia_ano</th><th scope=col>DT_REFER</th><th scope=col>CD_CVM</th><th scope=col>Ativo Total</th><th scope=col>Ativo Circulante</th><th scope=col>Ativo Não Circulante</th><th scope=col>Passivo Total</th><th scope=col>Passivo Circulante</th><th scope=col>Passivo Não Circulante</th><th scope=col>Patrimônio Líquido</th><th scope=col>⋯</th><th scope=col>Caixa Líquido Atividades de Financiamento</th><th scope=col>Aumento (Redução) de Caixa e Equivalentes</th><th scope=col>Liquidez_Geral</th><th scope=col>Liquidez_Corrente</th><th scope=col>Prop_CapitalTerceiros</th><th scope=col>Endividamento_Geral</th><th scope=col>Margem_Operacional</th><th scope=col>Margem_Liquida</th><th scope=col>ROE</th><th scope=col>FluxoCaixa_Livre</th></tr>\n",
              "\t<tr><th></th><th scope=col>&lt;chr&gt;</th><th scope=col>&lt;date&gt;</th><th scope=col>&lt;chr&gt;</th><th scope=col>&lt;dbl&gt;</th><th scope=col>&lt;dbl&gt;</th><th scope=col>&lt;dbl&gt;</th><th scope=col>&lt;dbl&gt;</th><th scope=col>&lt;dbl&gt;</th><th scope=col>&lt;dbl&gt;</th><th scope=col>&lt;dbl&gt;</th><th scope=col>⋯</th><th scope=col>&lt;dbl&gt;</th><th scope=col>&lt;dbl&gt;</th><th scope=col>&lt;dbl&gt;</th><th scope=col>&lt;dbl&gt;</th><th scope=col>&lt;dbl&gt;</th><th scope=col>&lt;dbl&gt;</th><th scope=col>&lt;dbl&gt;</th><th scope=col>&lt;dbl&gt;</th><th scope=col>&lt;dbl&gt;</th><th scope=col>&lt;dbl&gt;</th></tr>\n",
              "</thead>\n",
              "<tbody>\n",
              "\t<tr><th scope=row>1</th><td>001023_2017</td><td>2017-12-31</td><td>001023</td><td>1353075042</td><td>47239964</td><td>1305835078</td><td>1353075042</td><td>1165740599</td><td> 86096015</td><td>101238428</td><td>⋯</td><td>   NA</td><td>  NA</td><td>1.08087192</td><td>0.04052356</td><td>0.9251790</td><td> 0.9251790</td><td> 0.1139815</td><td> 0.08782903</td><td> 0.12125142</td><td>    NA</td></tr>\n",
              "\t<tr><th scope=row>2</th><td>014206_2017</td><td>2017-12-31</td><td>014206</td><td>  14183834</td><td> 1342280</td><td>  12841554</td><td>  14183834</td><td>  10973197</td><td>  1742453</td><td>  1468184</td><td>⋯</td><td>   NA</td><td>  NA</td><td>1.11546276</td><td>0.12232351</td><td>0.8964889</td><td> 0.8964889</td><td> 0.1248048</td><td> 0.07970463</td><td> 0.14921154</td><td>    NA</td></tr>\n",
              "\t<tr><th scope=row>3</th><td>002437_2017</td><td>2017-12-31</td><td>002437</td><td> 172975359</td><td>39480855</td><td> 203082473</td><td> 172975359</td><td>  34186952</td><td>120588225</td><td> 42752532</td><td>⋯</td><td>   NA</td><td>  NA</td><td>1.56719787</td><td>1.15485156</td><td>0.7835618</td><td> 0.6380815</td><td> 0.1265312</td><td>-0.04556157</td><td>-0.04036465</td><td>    NA</td></tr>\n",
              "\t<tr><th scope=row>4</th><td>014451_2017</td><td>2017-12-31</td><td>014451</td><td>   3637085</td><td> 1787913</td><td>   3656719</td><td>   3637085</td><td>   1625803</td><td>  1256053</td><td>   834408</td><td>⋯</td><td>68819</td><td>5960</td><td>1.88927969</td><td>1.09971073</td><td>0.7754713</td><td> 0.5293023</td><td> 0.2003091</td><td> 0.06514755</td><td> 0.21240568</td><td>-62859</td></tr>\n",
              "\t<tr><th scope=row>5</th><td>015083_2017</td><td>2017-12-31</td><td>015083</td><td>    104865</td><td>   36358</td><td>     80947</td><td>    104865</td><td>   6987301</td><td>  2169471</td><td>       NA</td><td>⋯</td><td>   NA</td><td>  NA</td><td>0.01281074</td><td>0.00520344</td><td>       NA</td><td>78.0595201</td><td>-3.0583981</td><td>-1.59132509</td><td>         NA</td><td>    NA</td></tr>\n",
              "\t<tr><th scope=row>6</th><td>024406_2017</td><td>2017-12-31</td><td>024406</td><td>   3584775</td><td>  472262</td><td>   3112513</td><td>   3584775</td><td>   3061405</td><td>   132761</td><td>   390609</td><td>⋯</td><td>   NA</td><td>  NA</td><td>1.12228826</td><td>0.15426316</td><td>0.8910367</td><td> 0.8910367</td><td> 0.1061145</td><td> 0.09589383</td><td> 0.12206836</td><td>    NA</td></tr>\n",
              "</tbody>\n",
              "</table>\n"
            ],
            "text/markdown": "\nA data.frame: 6 × 25\n\n| <!--/--> | cia_ano &lt;chr&gt; | DT_REFER &lt;date&gt; | CD_CVM &lt;chr&gt; | Ativo Total &lt;dbl&gt; | Ativo Circulante &lt;dbl&gt; | Ativo Não Circulante &lt;dbl&gt; | Passivo Total &lt;dbl&gt; | Passivo Circulante &lt;dbl&gt; | Passivo Não Circulante &lt;dbl&gt; | Patrimônio Líquido &lt;dbl&gt; | ⋯ ⋯ | Caixa Líquido Atividades de Financiamento &lt;dbl&gt; | Aumento (Redução) de Caixa e Equivalentes &lt;dbl&gt; | Liquidez_Geral &lt;dbl&gt; | Liquidez_Corrente &lt;dbl&gt; | Prop_CapitalTerceiros &lt;dbl&gt; | Endividamento_Geral &lt;dbl&gt; | Margem_Operacional &lt;dbl&gt; | Margem_Liquida &lt;dbl&gt; | ROE &lt;dbl&gt; | FluxoCaixa_Livre &lt;dbl&gt; |\n|---|---|---|---|---|---|---|---|---|---|---|---|---|---|---|---|---|---|---|---|---|---|\n| 1 | 001023_2017 | 2017-12-31 | 001023 | 1353075042 | 47239964 | 1305835078 | 1353075042 | 1165740599 |  86096015 | 101238428 | ⋯ |    NA |   NA | 1.08087192 | 0.04052356 | 0.9251790 |  0.9251790 |  0.1139815 |  0.08782903 |  0.12125142 |     NA |\n| 2 | 014206_2017 | 2017-12-31 | 014206 |   14183834 |  1342280 |   12841554 |   14183834 |   10973197 |   1742453 |   1468184 | ⋯ |    NA |   NA | 1.11546276 | 0.12232351 | 0.8964889 |  0.8964889 |  0.1248048 |  0.07970463 |  0.14921154 |     NA |\n| 3 | 002437_2017 | 2017-12-31 | 002437 |  172975359 | 39480855 |  203082473 |  172975359 |   34186952 | 120588225 |  42752532 | ⋯ |    NA |   NA | 1.56719787 | 1.15485156 | 0.7835618 |  0.6380815 |  0.1265312 | -0.04556157 | -0.04036465 |     NA |\n| 4 | 014451_2017 | 2017-12-31 | 014451 |    3637085 |  1787913 |    3656719 |    3637085 |    1625803 |   1256053 |    834408 | ⋯ | 68819 | 5960 | 1.88927969 | 1.09971073 | 0.7754713 |  0.5293023 |  0.2003091 |  0.06514755 |  0.21240568 | -62859 |\n| 5 | 015083_2017 | 2017-12-31 | 015083 |     104865 |    36358 |      80947 |     104865 |    6987301 |   2169471 |        NA | ⋯ |    NA |   NA | 0.01281074 | 0.00520344 |        NA | 78.0595201 | -3.0583981 | -1.59132509 |          NA |     NA |\n| 6 | 024406_2017 | 2017-12-31 | 024406 |    3584775 |   472262 |    3112513 |    3584775 |    3061405 |    132761 |    390609 | ⋯ |    NA |   NA | 1.12228826 | 0.15426316 | 0.8910367 |  0.8910367 |  0.1061145 |  0.09589383 |  0.12206836 |     NA |\n\n",
            "text/latex": "A data.frame: 6 × 25\n\\begin{tabular}{r|lllllllllllllllllllll}\n  & cia\\_ano & DT\\_REFER & CD\\_CVM & Ativo Total & Ativo Circulante & Ativo Não Circulante & Passivo Total & Passivo Circulante & Passivo Não Circulante & Patrimônio Líquido & ⋯ & Caixa Líquido Atividades de Financiamento & Aumento (Redução) de Caixa e Equivalentes & Liquidez\\_Geral & Liquidez\\_Corrente & Prop\\_CapitalTerceiros & Endividamento\\_Geral & Margem\\_Operacional & Margem\\_Liquida & ROE & FluxoCaixa\\_Livre\\\\\n  & <chr> & <date> & <chr> & <dbl> & <dbl> & <dbl> & <dbl> & <dbl> & <dbl> & <dbl> & ⋯ & <dbl> & <dbl> & <dbl> & <dbl> & <dbl> & <dbl> & <dbl> & <dbl> & <dbl> & <dbl>\\\\\n\\hline\n\t1 & 001023\\_2017 & 2017-12-31 & 001023 & 1353075042 & 47239964 & 1305835078 & 1353075042 & 1165740599 &  86096015 & 101238428 & ⋯ &    NA &   NA & 1.08087192 & 0.04052356 & 0.9251790 &  0.9251790 &  0.1139815 &  0.08782903 &  0.12125142 &     NA\\\\\n\t2 & 014206\\_2017 & 2017-12-31 & 014206 &   14183834 &  1342280 &   12841554 &   14183834 &   10973197 &   1742453 &   1468184 & ⋯ &    NA &   NA & 1.11546276 & 0.12232351 & 0.8964889 &  0.8964889 &  0.1248048 &  0.07970463 &  0.14921154 &     NA\\\\\n\t3 & 002437\\_2017 & 2017-12-31 & 002437 &  172975359 & 39480855 &  203082473 &  172975359 &   34186952 & 120588225 &  42752532 & ⋯ &    NA &   NA & 1.56719787 & 1.15485156 & 0.7835618 &  0.6380815 &  0.1265312 & -0.04556157 & -0.04036465 &     NA\\\\\n\t4 & 014451\\_2017 & 2017-12-31 & 014451 &    3637085 &  1787913 &    3656719 &    3637085 &    1625803 &   1256053 &    834408 & ⋯ & 68819 & 5960 & 1.88927969 & 1.09971073 & 0.7754713 &  0.5293023 &  0.2003091 &  0.06514755 &  0.21240568 & -62859\\\\\n\t5 & 015083\\_2017 & 2017-12-31 & 015083 &     104865 &    36358 &      80947 &     104865 &    6987301 &   2169471 &        NA & ⋯ &    NA &   NA & 0.01281074 & 0.00520344 &        NA & 78.0595201 & -3.0583981 & -1.59132509 &          NA &     NA\\\\\n\t6 & 024406\\_2017 & 2017-12-31 & 024406 &    3584775 &   472262 &    3112513 &    3584775 &    3061405 &    132761 &    390609 & ⋯ &    NA &   NA & 1.12228826 & 0.15426316 & 0.8910367 &  0.8910367 &  0.1061145 &  0.09589383 &  0.12206836 &     NA\\\\\n\\end{tabular}\n",
            "text/plain": [
              "  cia_ano     DT_REFER   CD_CVM Ativo Total Ativo Circulante\n",
              "1 001023_2017 2017-12-31 001023 1353075042  47239964        \n",
              "2 014206_2017 2017-12-31 014206   14183834   1342280        \n",
              "3 002437_2017 2017-12-31 002437  172975359  39480855        \n",
              "4 014451_2017 2017-12-31 014451    3637085   1787913        \n",
              "5 015083_2017 2017-12-31 015083     104865     36358        \n",
              "6 024406_2017 2017-12-31 024406    3584775    472262        \n",
              "  Ativo Não Circulante Passivo Total Passivo Circulante Passivo Não Circulante\n",
              "1 1305835078           1353075042    1165740599          86096015             \n",
              "2   12841554             14183834      10973197           1742453             \n",
              "3  203082473            172975359      34186952         120588225             \n",
              "4    3656719              3637085       1625803           1256053             \n",
              "5      80947               104865       6987301           2169471             \n",
              "6    3112513              3584775       3061405            132761             \n",
              "  Patrimônio Líquido ⋯ Caixa Líquido Atividades de Financiamento\n",
              "1 101238428          ⋯    NA                                    \n",
              "2   1468184          ⋯    NA                                    \n",
              "3  42752532          ⋯    NA                                    \n",
              "4    834408          ⋯ 68819                                    \n",
              "5        NA          ⋯    NA                                    \n",
              "6    390609          ⋯    NA                                    \n",
              "  Aumento (Redução) de Caixa e Equivalentes Liquidez_Geral Liquidez_Corrente\n",
              "1   NA                                      1.08087192     0.04052356       \n",
              "2   NA                                      1.11546276     0.12232351       \n",
              "3   NA                                      1.56719787     1.15485156       \n",
              "4 5960                                      1.88927969     1.09971073       \n",
              "5   NA                                      0.01281074     0.00520344       \n",
              "6   NA                                      1.12228826     0.15426316       \n",
              "  Prop_CapitalTerceiros Endividamento_Geral Margem_Operacional Margem_Liquida\n",
              "1 0.9251790              0.9251790           0.1139815          0.08782903   \n",
              "2 0.8964889              0.8964889           0.1248048          0.07970463   \n",
              "3 0.7835618              0.6380815           0.1265312         -0.04556157   \n",
              "4 0.7754713              0.5293023           0.2003091          0.06514755   \n",
              "5        NA             78.0595201          -3.0583981         -1.59132509   \n",
              "6 0.8910367              0.8910367           0.1061145          0.09589383   \n",
              "  ROE         FluxoCaixa_Livre\n",
              "1  0.12125142     NA          \n",
              "2  0.14921154     NA          \n",
              "3 -0.04036465     NA          \n",
              "4  0.21240568 -62859          \n",
              "5          NA     NA          \n",
              "6  0.12206836     NA          "
            ]
          },
          "metadata": {}
        }
      ]
    },
    {
      "cell_type": "code",
      "source": [
        "#Conversão para excel\n",
        "install.packages(\"writexl\")\n",
        "library(writexl)\n",
        "write_xlsx(demonstracoes,\"/content/dfp_wide.xlsx\")"
      ],
      "metadata": {
        "id": "_EZYE9R_ps0T"
      },
      "execution_count": null,
      "outputs": []
    },
    {
      "cell_type": "code",
      "source": [
        "# Estabelecer conexão com o banco de dados PostgreSQL\n",
        "con <- dbConnect(PostgreSQL(), dbname = \"seu_banco_de_dados\",\n",
        "                 host = \"seu_host\", port = \"sua_porta\",\n",
        "                 user = \"seu_usuario\", password = \"sua_senha\")\n",
        "\n",
        "\n",
        "# Inserir todas as linhas do dataframe no PostgreSQL\n",
        "dbWriteTable(conn = con, name = \"tabela_bd\", value = demonstracoes,\n",
        "             row.names = FALSE, overwrite = TRUE, append = FALSE)\n",
        "\n",
        "# Fechar a conexão com o banco de dados\n",
        "dbDisconnect(con)"
      ],
      "metadata": {
        "id": "QuH4FuWm8Pa1"
      },
      "execution_count": null,
      "outputs": []
    }
  ]
}