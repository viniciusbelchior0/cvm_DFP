{
  "nbformat": 4,
  "nbformat_minor": 0,
  "metadata": {
    "colab": {
      "provenance": []
    },
    "kernelspec": {
      "name": "ir",
      "display_name": "R"
    },
    "language_info": {
      "name": "R"
    }
  },
  "cells": [
    {
      "cell_type": "code",
      "execution_count": null,
      "metadata": {
        "colab": {
          "base_uri": "https://localhost:8080/"
        },
        "id": "LgPf8q2ZxPQn",
        "outputId": "b74e93a1-8b00-47de-acbf-bd8cfa8520a6"
      },
      "outputs": [
        {
          "output_type": "stream",
          "name": "stderr",
          "text": [
            "Installing package into ‘/usr/local/lib/R/site-library’\n",
            "(as ‘lib’ is unspecified)\n",
            "\n",
            "Installing package into ‘/usr/local/lib/R/site-library’\n",
            "(as ‘lib’ is unspecified)\n",
            "\n"
          ]
        }
      ],
      "source": [
        "install.packages(\"purrr\")\n",
        "install.packages(\"httr\")"
      ]
    },
    {
      "cell_type": "code",
      "source": [
        "library(httr)\n",
        "library(purrr)\n",
        "library(dplyr)\n",
        "library(tidyverse)\n",
        "#library(RPostgreSQL)"
      ],
      "metadata": {
        "colab": {
          "base_uri": "https://localhost:8080/"
        },
        "id": "wDvjKL6myR5e",
        "outputId": "75951c21-c2fd-4696-c6ca-c1c1b9d3a238"
      },
      "execution_count": null,
      "outputs": [
        {
          "output_type": "stream",
          "name": "stderr",
          "text": [
            "\n",
            "Attaching package: ‘dplyr’\n",
            "\n",
            "\n",
            "The following objects are masked from ‘package:stats’:\n",
            "\n",
            "    filter, lag\n",
            "\n",
            "\n",
            "The following objects are masked from ‘package:base’:\n",
            "\n",
            "    intersect, setdiff, setequal, union\n",
            "\n",
            "\n",
            "── \u001b[1mAttaching core tidyverse packages\u001b[22m ──────────────────────── tidyverse 2.0.0 ──\n",
            "\u001b[32m✔\u001b[39m \u001b[34mforcats  \u001b[39m 1.0.0     \u001b[32m✔\u001b[39m \u001b[34mstringr  \u001b[39m 1.5.1\n",
            "\u001b[32m✔\u001b[39m \u001b[34mggplot2  \u001b[39m 3.4.4     \u001b[32m✔\u001b[39m \u001b[34mtibble   \u001b[39m 3.2.1\n",
            "\u001b[32m✔\u001b[39m \u001b[34mlubridate\u001b[39m 1.9.3     \u001b[32m✔\u001b[39m \u001b[34mtidyr    \u001b[39m 1.3.1\n",
            "\u001b[32m✔\u001b[39m \u001b[34mreadr    \u001b[39m 2.1.5     \n",
            "── \u001b[1mConflicts\u001b[22m ────────────────────────────────────────── tidyverse_conflicts() ──\n",
            "\u001b[31m✖\u001b[39m \u001b[34mdplyr\u001b[39m::\u001b[32mfilter()\u001b[39m masks \u001b[34mstats\u001b[39m::filter()\n",
            "\u001b[31m✖\u001b[39m \u001b[34mdplyr\u001b[39m::\u001b[32mlag()\u001b[39m    masks \u001b[34mstats\u001b[39m::lag()\n",
            "\u001b[36mℹ\u001b[39m Use the conflicted package (\u001b[3m\u001b[34m<http://conflicted.r-lib.org/>\u001b[39m\u001b[23m) to force all conflicts to become errors\n"
          ]
        }
      ]
    },
    {
      "cell_type": "code",
      "source": [
        "obter_dfp <- function(ano){\n",
        "  url <- paste0(\"https://dados.cvm.gov.br/dados/CIA_ABERTA/DOC/DFP/DADOS/\",\"dfp_cia_aberta_\",ano,\".zip\") #copiando a URL dos arquivos\n",
        "  GET(url, write_disk(paste0(\"dfp_cia_aberta_\",ano,\".zip\"))) #baixando os arquivos\n",
        "  planilhas <- unzip(paste0(\"/content/dfp_cia_aberta_\",ano,\".zip\"))} #descompactando os arquivos .RAR"
      ],
      "metadata": {
        "id": "qhwOXXIOyTD8"
      },
      "execution_count": null,
      "outputs": []
    },
    {
      "cell_type": "code",
      "source": [
        "obter_cias <- function(){\n",
        "  #Listando os arquivos no diretório referente às demonstrações financeiras\n",
        "  CIA <- list.files(path = \".\", pattern = \"^dfp_cia_aberta_20\", full.names = TRUE)\n",
        "\n",
        "  #Lendo os arquivos\n",
        "  CIA <- read_csv2(CIA, id = \"file_name\",locale = locale(encoding = \"ISO-8859-1\"))\n",
        "\n",
        "  #Obtendo o código e o nome das empresas\n",
        "  CIA <- CIA %>% select(CD_CVM,DENOM_CIA) %>% distinct(CD_CVM,DENOM_CIA)\n",
        "\n",
        "  #Convertendo para dataframe\n",
        "  CIAS <- as.data.frame(CIA)\n",
        "  names(CIAS) <- c(\"cd_cvm\",\"nome_companhia\")\n",
        "  CIAS <- CIAS %>% distinct(cd_cvm, .keep_all = TRUE)\n",
        "\n",
        "  #Salvando os arquivo gerados e deletando os outros\n",
        "  write.csv(CIAS,\"cias.csv\")\n",
        "  f <- list.files(path = \".\", pattern = \"^dfp_cia_aberta\", full.names = TRUE, recursive = TRUE)\n",
        "  file.remove(f)\n",
        "\n",
        "  return(CIAS)\n",
        "}"
      ],
      "metadata": {
        "id": "gGDCRBDqyc-V"
      },
      "execution_count": null,
      "outputs": []
    },
    {
      "cell_type": "code",
      "source": [
        "anos <- 2010:2022\n",
        "\n",
        "for (ano in anos){\n",
        "obter_dfp(ano)}"
      ],
      "metadata": {
        "id": "w0KjxMPd2qOF"
      },
      "execution_count": null,
      "outputs": []
    },
    {
      "cell_type": "code",
      "source": [
        "cias <- obter_cias()"
      ],
      "metadata": {
        "colab": {
          "base_uri": "https://localhost:8080/"
        },
        "id": "9UgVjGwD2Ffe",
        "outputId": "5356bf53-3c5f-4f6c-97d8-dd354f7b71ec"
      },
      "execution_count": null,
      "outputs": [
        {
          "output_type": "stream",
          "name": "stderr",
          "text": [
            "\u001b[36mℹ\u001b[39m Using \u001b[34m\u001b[34m\"','\"\u001b[34m\u001b[39m as decimal and \u001b[34m\u001b[34m\"'.'\"\u001b[34m\u001b[39m as grouping mark. Use `read_delim()` for more control.\n",
            "\n",
            "Multiple files in zip: reading 'dfp_cia_aberta_2010.csv'\n",
            "Multiple files in zip: reading 'dfp_cia_aberta_2011.csv'\n",
            "Multiple files in zip: reading 'dfp_cia_aberta_2012.csv'\n",
            "Multiple files in zip: reading 'dfp_cia_aberta_2013.csv'\n",
            "Multiple files in zip: reading 'dfp_cia_aberta_2014.csv'\n",
            "Multiple files in zip: reading 'dfp_cia_aberta_2015.csv'\n",
            "Multiple files in zip: reading 'dfp_cia_aberta_2016.csv'\n",
            "Multiple files in zip: reading 'dfp_cia_aberta_2017.csv'\n",
            "Multiple files in zip: reading 'dfp_cia_aberta_2018.csv'\n",
            "Multiple files in zip: reading 'dfp_cia_aberta_2019.csv'\n",
            "Multiple files in zip: reading 'dfp_cia_aberta_2020.csv'\n",
            "Multiple files in zip: reading 'dfp_cia_aberta_2021.csv'\n",
            "Multiple files in zip: reading 'dfp_cia_aberta_2022.csv'\n",
            "\u001b[1mRows: \u001b[22m\u001b[34m22920\u001b[39m \u001b[1mColumns: \u001b[22m\u001b[34m10\u001b[39m\n",
            "\u001b[36m──\u001b[39m \u001b[1mColumn specification\u001b[22m \u001b[36m────────────────────────────────────────────────────────\u001b[39m\n",
            "\u001b[1mDelimiter:\u001b[22m \";\"\n",
            "\u001b[31mchr\u001b[39m  (5): CNPJ_CIA, DENOM_CIA, CD_CVM, CATEG_DOC, LINK_DOC\n",
            "\u001b[32mdbl\u001b[39m  (2): VERSAO, ID_DOC\n",
            "\u001b[34mdate\u001b[39m (2): DT_REFER, DT_RECEB\n",
            "\n",
            "\u001b[36mℹ\u001b[39m Use `spec()` to retrieve the full column specification for this data.\n",
            "\u001b[36mℹ\u001b[39m Specify the column types or set `show_col_types = FALSE` to quiet this message.\n"
          ]
        }
      ]
    },
    {
      "cell_type": "code",
      "source": [
        "head(cias)"
      ],
      "metadata": {
        "colab": {
          "base_uri": "https://localhost:8080/",
          "height": 286
        },
        "id": "5GTz60Pj2aXt",
        "outputId": "4d61e342-6d48-49c6-f1be-4102ed0a170d"
      },
      "execution_count": null,
      "outputs": [
        {
          "output_type": "display_data",
          "data": {
            "text/html": [
              "<table class=\"dataframe\">\n",
              "<caption>A data.frame: 6 × 2</caption>\n",
              "<thead>\n",
              "\t<tr><th></th><th scope=col>CD_CVM</th><th scope=col>DENOM_CIA</th></tr>\n",
              "\t<tr><th></th><th scope=col>&lt;chr&gt;</th><th scope=col>&lt;chr&gt;</th></tr>\n",
              "</thead>\n",
              "<tbody>\n",
              "\t<tr><th scope=row>1</th><td>001023</td><td>BCO BRASIL S.A.                     </td></tr>\n",
              "\t<tr><th scope=row>2</th><td>014206</td><td>BRB BCO DE BRASILIA S.A.            </td></tr>\n",
              "\t<tr><th scope=row>3</th><td>002437</td><td>CENTRAIS ELET BRAS S.A. - ELETROBRAS</td></tr>\n",
              "\t<tr><th scope=row>4</th><td>014451</td><td>CIA ENERGETICA DE BRASILIA          </td></tr>\n",
              "\t<tr><th scope=row>5</th><td>014540</td><td>VBC ENERGIA SA                      </td></tr>\n",
              "\t<tr><th scope=row>6</th><td>014621</td><td>NET SERVIÇOS DE COMUNICAÇÃO S.A.    </td></tr>\n",
              "</tbody>\n",
              "</table>\n"
            ],
            "text/markdown": "\nA data.frame: 6 × 2\n\n| <!--/--> | CD_CVM &lt;chr&gt; | DENOM_CIA &lt;chr&gt; |\n|---|---|---|\n| 1 | 001023 | BCO BRASIL S.A.                      |\n| 2 | 014206 | BRB BCO DE BRASILIA S.A.             |\n| 3 | 002437 | CENTRAIS ELET BRAS S.A. - ELETROBRAS |\n| 4 | 014451 | CIA ENERGETICA DE BRASILIA           |\n| 5 | 014540 | VBC ENERGIA SA                       |\n| 6 | 014621 | NET SERVIÇOS DE COMUNICAÇÃO S.A.     |\n\n",
            "text/latex": "A data.frame: 6 × 2\n\\begin{tabular}{r|ll}\n  & CD\\_CVM & DENOM\\_CIA\\\\\n  & <chr> & <chr>\\\\\n\\hline\n\t1 & 001023 & BCO BRASIL S.A.                     \\\\\n\t2 & 014206 & BRB BCO DE BRASILIA S.A.            \\\\\n\t3 & 002437 & CENTRAIS ELET BRAS S.A. - ELETROBRAS\\\\\n\t4 & 014451 & CIA ENERGETICA DE BRASILIA          \\\\\n\t5 & 014540 & VBC ENERGIA SA                      \\\\\n\t6 & 014621 & NET SERVIÇOS DE COMUNICAÇÃO S.A.    \\\\\n\\end{tabular}\n",
            "text/plain": [
              "  CD_CVM DENOM_CIA                           \n",
              "1 001023 BCO BRASIL S.A.                     \n",
              "2 014206 BRB BCO DE BRASILIA S.A.            \n",
              "3 002437 CENTRAIS ELET BRAS S.A. - ELETROBRAS\n",
              "4 014451 CIA ENERGETICA DE BRASILIA          \n",
              "5 014540 VBC ENERGIA SA                      \n",
              "6 014621 NET SERVIÇOS DE COMUNICAÇÃO S.A.    "
            ]
          },
          "metadata": {}
        }
      ]
    },
    {
      "cell_type": "code",
      "source": [
        "install.packages(\"writexl\")"
      ],
      "metadata": {
        "colab": {
          "base_uri": "https://localhost:8080/"
        },
        "id": "ikFIGDMUrLDQ",
        "outputId": "3e61495a-7f78-49ac-d54e-905cc49ee333"
      },
      "execution_count": null,
      "outputs": [
        {
          "output_type": "stream",
          "name": "stderr",
          "text": [
            "Installing package into ‘/usr/local/lib/R/site-library’\n",
            "(as ‘lib’ is unspecified)\n",
            "\n"
          ]
        }
      ]
    },
    {
      "cell_type": "code",
      "source": [
        "#Conversão para excel\n",
        "library(writexl)\n",
        "write_xlsx(cias,\"/content/cias.xlsx\")"
      ],
      "metadata": {
        "id": "ZrBk0P2wrVD8"
      },
      "execution_count": null,
      "outputs": []
    },
    {
      "cell_type": "code",
      "source": [
        "# Estabelecer conexão com o banco de dados PostgreSQL\n",
        "con <- dbConnect(PostgreSQL(), dbname = \"seu_banco_de_dados\",\n",
        "                 host = \"seu_host\", port = \"sua_porta\",\n",
        "                 user = \"seu_usuario\", password = \"sua_senha\")\n",
        "\n",
        "\n",
        "# Inserir todas as linhas do dataframe no PostgreSQL\n",
        "dbWriteTable(conn = con, name = \"tabela_bd\", value = cias,\n",
        "             row.names = FALSE, overwrite = TRUE, append = FALSE)\n",
        "\n",
        "# Fechar a conexão com o banco de dados\n",
        "dbDisconnect(con)"
      ],
      "metadata": {
        "id": "WIVLdQvu3DWF"
      },
      "execution_count": null,
      "outputs": []
    }
  ]
}